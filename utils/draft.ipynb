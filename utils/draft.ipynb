{
 "cells": [
  {
   "cell_type": "code",
   "execution_count": 1,
   "id": "0b0c0e9c",
   "metadata": {},
   "outputs": [],
   "source": [
    "import os \n",
    "import pandas as pd\n",
    "import zipfile\n",
    "import requests\n",
    "import time\n",
    "from tqdm import tqdm\n",
    "import pubchempy as pcp"
   ]
  },
  {
   "cell_type": "code",
   "execution_count": null,
   "id": "4328451c",
   "metadata": {},
   "outputs": [],
   "source": [
    "def smile_generator(data_path=\"../data_csv\",data_file='Products.csv'):\n",
    "    df = pd.read_csv(\"/\".join(data_path,data_file))\n",
    "    df['ProductID'] = df.index\n",
    "    ActiveIngredient_list = df['ActiveIngredient'].tolist()\n",
    "\n",
    "    results = {'ProductID': [], 'smiles': []}\n",
    "\n",
    "    # Loops through products\n",
    "    for index, ingredients in tqdm(list(enumerate(ActiveIngredient_list)), total=len(ActiveIngredient_list), desc=\"Fetching SMILES\"):\n",
    "        start = time.time()\n",
    "        \n",
    "        # Loops through many active ingredients in 1 product\n",
    "        ingredients = ingredients.split('; ')\n",
    "        for name in ingredients:\n",
    "            compounds = pcp.get_compounds(name, 'name')\n",
    "            duration = time.time() - start\n",
    "\n",
    "            if compounds:\n",
    "                results['smiles'].append(compounds[0].isomeric_smiles)\n",
    "                results['ProductID'].append(index)\n",
    "\n",
    "            else:\n",
    "                tqdm.write(f\"{index}: {name} -> Not found (took {duration:.2f}s)\")\n",
    "\n",
    "    df_smile = pd.DataFrame(results)\n",
    "    df_smile.to_csv(\"/\".join(data_path,'Smiles.csv'), index=False)"
   ]
  },
  {
   "cell_type": "code",
   "execution_count": 17,
   "id": "4bc96a45",
   "metadata": {},
   "outputs": [
    {
     "data": {
      "text/plain": [
       "5215"
      ]
     },
     "execution_count": 17,
     "metadata": {},
     "output_type": "execute_result"
    }
   ],
   "source": [
    "compounds = pcp.get_compounds('SULFADIAZINE', 'name')\n",
    "compounds[0].cid"
   ]
  },
  {
   "cell_type": "code",
   "execution_count": 16,
   "id": "857c8abd",
   "metadata": {},
   "outputs": [
    {
     "data": {
      "text/plain": [
       "[Compound(5320)]"
      ]
     },
     "execution_count": 16,
     "metadata": {},
     "output_type": "execute_result"
    }
   ],
   "source": [
    "compounds = pcp.get_compounds('SULFACETAMIDE', 'name')\n",
    "compounds"
   ]
  },
  {
   "cell_type": "code",
   "execution_count": 37,
   "id": "e5497a88",
   "metadata": {},
   "outputs": [],
   "source": [
    "a = 'TRIPLE SULFA (SULFABENZAMIDE;SULFACETAMIDE;SULFATHIAZOLE)'\n",
    "b = 'AMPHETAMINE ASPARTATE; AMPHETAMINE SULFATE; DEXTROAMPHETAMINE SACCHARATE; DEXTROAMPHETAMINE SULFATE'\n",
    "c = 'active ingredient'"
   ]
  },
  {
   "cell_type": "code",
   "execution_count": 29,
   "id": "5145a149",
   "metadata": {},
   "outputs": [
    {
     "data": {
      "text/plain": [
       "['SULFABENZAMIDE', 'SULFACETAMIDE', 'SULFATHIAZOLE']"
      ]
     },
     "execution_count": 29,
     "metadata": {},
     "output_type": "execute_result"
    }
   ],
   "source": [
    "a.split(' ')[-1].replace('(','').replace(')','').split(';')"
   ]
  },
  {
   "cell_type": "code",
   "execution_count": null,
   "id": "ed375304",
   "metadata": {},
   "outputs": [],
   "source": [
    "def extract_ingredients(text):\n",
    "    if '(' in text and ')' in text:\n",
    "        # Extract the part inside parentheses\n",
    "        inside = text[text.find('(')+1:text.find(')')]\n",
    "        return [item.strip() for item in inside.split(';')]\n",
    "    else:\n",
    "        return [item.strip() for item in text.split(';')]\n"
   ]
  },
  {
   "cell_type": "code",
   "execution_count": 40,
   "id": "5fe1bd70",
   "metadata": {},
   "outputs": [
    {
     "data": {
      "text/plain": [
       "['active ingredient']"
      ]
     },
     "execution_count": 40,
     "metadata": {},
     "output_type": "execute_result"
    }
   ],
   "source": [
    "extract_ingredients(c)"
   ]
  },
  {
   "cell_type": "code",
   "execution_count": null,
   "id": "4866e031",
   "metadata": {},
   "outputs": [],
   "source": []
  }
 ],
 "metadata": {
  "kernelspec": {
   "display_name": "MLcode",
   "language": "python",
   "name": "python3"
  },
  "language_info": {
   "codemirror_mode": {
    "name": "ipython",
    "version": 3
   },
   "file_extension": ".py",
   "mimetype": "text/x-python",
   "name": "python",
   "nbconvert_exporter": "python",
   "pygments_lexer": "ipython3",
   "version": "3.12.2"
  }
 },
 "nbformat": 4,
 "nbformat_minor": 5
}
