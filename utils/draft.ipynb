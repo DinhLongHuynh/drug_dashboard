{
 "cells": [
  {
   "cell_type": "code",
   "execution_count": 1,
   "id": "0b0c0e9c",
   "metadata": {},
   "outputs": [],
   "source": [
    "import os \n",
    "import pandas as pd\n",
    "import zipfile\n",
    "import requests\n",
    "import time\n",
    "from tqdm import tqdm\n",
    "import pubchempy as pcp"
   ]
  },
  {
   "cell_type": "code",
   "execution_count": null,
   "id": "4328451c",
   "metadata": {},
   "outputs": [],
   "source": [
    "def smile_generator(data_path=\"../data_csv\",data_file='Products.csv'):\n",
    "    df = pd.read_csv(\"/\".join(data_path,data_file))\n",
    "    df['ProductID'] = df.index\n",
    "    ActiveIngredient_list = df['ActiveIngredient'].tolist()\n",
    "\n",
    "    results = {'ProductID': [], 'smiles': []}\n",
    "\n",
    "    # Loops through products\n",
    "    for index, ingredients in tqdm(list(enumerate(ActiveIngredient_list)), total=len(ActiveIngredient_list), desc=\"Fetching SMILES\"):\n",
    "        start = time.time()\n",
    "        \n",
    "        # Loops through many active ingredients in 1 product\n",
    "        ingredients = ingredients.split('; ')\n",
    "        for name in ingredients:\n",
    "            compounds = pcp.get_compounds(name, 'name')\n",
    "            duration = time.time() - start\n",
    "\n",
    "            if compounds:\n",
    "                results['smiles'].append(compounds[0].isomeric_smiles)\n",
    "                results['ProductID'].append(index)\n",
    "\n",
    "            else:\n",
    "                tqdm.write(f\"{index}: {name} -> Not found (took {duration:.2f}s)\")\n",
    "\n",
    "    df_smile = pd.DataFrame(results)\n",
    "    df_smile.to_csv(\"/\".join(data_path,'Smiles.csv'), index=False)"
   ]
  },
  {
   "cell_type": "code",
   "execution_count": 17,
   "id": "4bc96a45",
   "metadata": {},
   "outputs": [
    {
     "data": {
      "text/plain": [
       "5215"
      ]
     },
     "execution_count": 17,
     "metadata": {},
     "output_type": "execute_result"
    }
   ],
   "source": [
    "compounds = pcp.get_compounds('SULFADIAZINE', 'name')\n",
    "compounds[0].cid"
   ]
  },
  {
   "cell_type": "code",
   "execution_count": 16,
   "id": "857c8abd",
   "metadata": {},
   "outputs": [
    {
     "data": {
      "text/plain": [
       "[Compound(5320)]"
      ]
     },
     "execution_count": 16,
     "metadata": {},
     "output_type": "execute_result"
    }
   ],
   "source": [
    "compounds = pcp.get_compounds('SULFACETAMIDE', 'name')\n",
    "compounds"
   ]
  },
  {
   "cell_type": "code",
   "execution_count": 37,
   "id": "e5497a88",
   "metadata": {},
   "outputs": [],
   "source": [
    "a = 'TRIPLE SULFA (SULFABENZAMIDE;SULFACETAMIDE;SULFATHIAZOLE)'\n",
    "b = 'AMPHETAMINE ASPARTATE; AMPHETAMINE SULFATE; DEXTROAMPHETAMINE SACCHARATE; DEXTROAMPHETAMINE SULFATE'\n",
    "c = 'active ingredient'"
   ]
  },
  {
   "cell_type": "code",
   "execution_count": 29,
   "id": "5145a149",
   "metadata": {},
   "outputs": [
    {
     "data": {
      "text/plain": [
       "['SULFABENZAMIDE', 'SULFACETAMIDE', 'SULFATHIAZOLE']"
      ]
     },
     "execution_count": 29,
     "metadata": {},
     "output_type": "execute_result"
    }
   ],
   "source": [
    "a.split(' ')[-1].replace('(','').replace(')','').split(';')"
   ]
  },
  {
   "cell_type": "code",
   "execution_count": null,
   "id": "ed375304",
   "metadata": {},
   "outputs": [],
   "source": [
    "def extract_ingredients(text):\n",
    "    if '(' in text and ')' in text:\n",
    "        # Extract the part inside parentheses\n",
    "        inside = text[text.find('(')+1:text.find(')')]\n",
    "        return [item.strip() for item in inside.split(';')]\n",
    "    else:\n",
    "        return [item.strip() for item in text.split(';')]\n"
   ]
  },
  {
   "cell_type": "code",
   "execution_count": 40,
   "id": "5fe1bd70",
   "metadata": {},
   "outputs": [
    {
     "data": {
      "text/plain": [
       "['active ingredient']"
      ]
     },
     "execution_count": 40,
     "metadata": {},
     "output_type": "execute_result"
    }
   ],
   "source": [
    "extract_ingredients(c)"
   ]
  },
  {
   "cell_type": "code",
   "execution_count": 13,
   "id": "4866e031",
   "metadata": {},
   "outputs": [],
   "source": [
    "from data_processor import DataProcessor"
   ]
  },
  {
   "cell_type": "code",
   "execution_count": 15,
   "id": "9167e2b4",
   "metadata": {},
   "outputs": [],
   "source": [
    "processor = DataProcessor(data_file='Products_draft.csv')"
   ]
  },
  {
   "cell_type": "code",
   "execution_count": 17,
   "id": "919d075e",
   "metadata": {},
   "outputs": [
    {
     "name": "stderr",
     "output_type": "stream",
     "text": [
      "Fetching SMILES:   9%|▉         | 32/346 [00:17<02:47,  1.88it/s]"
     ]
    },
    {
     "name": "stdout",
     "output_type": "stream",
     "text": [
      "186: PROTAMINE SULFATE -> Not found (took 0.37s)\n"
     ]
    },
    {
     "name": "stderr",
     "output_type": "stream",
     "text": [
      "Fetching SMILES:  44%|████▍     | 152/346 [01:32<01:29,  2.17it/s]"
     ]
    },
    {
     "name": "stdout",
     "output_type": "stream",
     "text": [
      "473: ETHIODIZED OIL -> Not found (took 0.39s)\n"
     ]
    },
    {
     "name": "stderr",
     "output_type": "stream",
     "text": [
      "Fetching SMILES:  75%|███████▍  | 259/346 [02:28<00:51,  1.71it/s]"
     ]
    },
    {
     "name": "stdout",
     "output_type": "stream",
     "text": [
      "835: SODIUM POLYSTYRENE SULFONATE -> Not found (took 0.38s)\n"
     ]
    },
    {
     "name": "stderr",
     "output_type": "stream",
     "text": [
      "Fetching SMILES:  77%|███████▋  | 267/346 [02:35<01:02,  1.27it/s]"
     ]
    },
    {
     "name": "stdout",
     "output_type": "stream",
     "text": [
      "868: DEXTROAMPHETAMINE SACCHARATE -> Not found (took 1.36s)\n"
     ]
    },
    {
     "name": "stderr",
     "output_type": "stream",
     "text": [
      "Fetching SMILES:  77%|███████▋  | 268/346 [02:37<01:27,  1.13s/it]"
     ]
    },
    {
     "name": "stdout",
     "output_type": "stream",
     "text": [
      "869: DEXTROAMPHETAMINE SACCHARATE -> Not found (took 1.29s)\n"
     ]
    },
    {
     "name": "stderr",
     "output_type": "stream",
     "text": [
      "Fetching SMILES:  78%|███████▊  | 269/346 [02:39<01:45,  1.37s/it]"
     ]
    },
    {
     "name": "stdout",
     "output_type": "stream",
     "text": [
      "870: DEXTROAMPHETAMINE SACCHARATE -> Not found (took 1.27s)\n"
     ]
    },
    {
     "name": "stderr",
     "output_type": "stream",
     "text": [
      "Fetching SMILES:  78%|███████▊  | 270/346 [02:41<01:55,  1.52s/it]"
     ]
    },
    {
     "name": "stdout",
     "output_type": "stream",
     "text": [
      "871: DEXTROAMPHETAMINE SACCHARATE -> Not found (took 1.81s)\n"
     ]
    },
    {
     "name": "stderr",
     "output_type": "stream",
     "text": [
      "Fetching SMILES:  78%|███████▊  | 271/346 [02:43<02:14,  1.80s/it]"
     ]
    },
    {
     "name": "stdout",
     "output_type": "stream",
     "text": [
      "872: DEXTROAMPHETAMINE SACCHARATE -> Not found (took 1.35s)\n"
     ]
    },
    {
     "name": "stderr",
     "output_type": "stream",
     "text": [
      "Fetching SMILES:  79%|███████▊  | 272/346 [02:46<02:15,  1.84s/it]"
     ]
    },
    {
     "name": "stdout",
     "output_type": "stream",
     "text": [
      "873: DEXTROAMPHETAMINE SACCHARATE -> Not found (took 1.78s)\n"
     ]
    },
    {
     "name": "stderr",
     "output_type": "stream",
     "text": [
      "Fetching SMILES:  79%|███████▉  | 273/346 [02:48<02:25,  1.99s/it]"
     ]
    },
    {
     "name": "stdout",
     "output_type": "stream",
     "text": [
      "874: DEXTROAMPHETAMINE SACCHARATE -> Not found (took 1.31s)\n"
     ]
    },
    {
     "name": "stderr",
     "output_type": "stream",
     "text": [
      "Fetching SMILES: 100%|██████████| 346/346 [03:25<00:00,  1.68it/s]\n"
     ]
    }
   ],
   "source": [
    "processor.smile_generator()"
   ]
  },
  {
   "cell_type": "code",
   "execution_count": 20,
   "id": "f5c086ea",
   "metadata": {},
   "outputs": [
    {
     "ename": "AttributeError",
     "evalue": "'DataProcessor' object has no attribute 'smile_standardizer'",
     "output_type": "error",
     "traceback": [
      "\u001b[0;31m---------------------------------------------------------------------------\u001b[0m",
      "\u001b[0;31mAttributeError\u001b[0m                            Traceback (most recent call last)",
      "Cell \u001b[0;32mIn[20], line 1\u001b[0m\n\u001b[0;32m----> 1\u001b[0m \u001b[43mprocessor\u001b[49m\u001b[38;5;241;43m.\u001b[39;49m\u001b[43msmile_standardizer\u001b[49m\n",
      "\u001b[0;31mAttributeError\u001b[0m: 'DataProcessor' object has no attribute 'smile_standardizer'"
     ]
    }
   ],
   "source": [
    "processor.smile_standardizer"
   ]
  },
  {
   "cell_type": "code",
   "execution_count": 21,
   "id": "edb163e0",
   "metadata": {},
   "outputs": [
    {
     "data": {
      "text/html": [
       "<div>\n",
       "<style scoped>\n",
       "    .dataframe tbody tr th:only-of-type {\n",
       "        vertical-align: middle;\n",
       "    }\n",
       "\n",
       "    .dataframe tbody tr th {\n",
       "        vertical-align: top;\n",
       "    }\n",
       "\n",
       "    .dataframe thead th {\n",
       "        text-align: right;\n",
       "    }\n",
       "</style>\n",
       "<table border=\"1\" class=\"dataframe\">\n",
       "  <thead>\n",
       "    <tr style=\"text-align: right;\">\n",
       "      <th></th>\n",
       "      <th>ProductID</th>\n",
       "      <th>smiles</th>\n",
       "    </tr>\n",
       "  </thead>\n",
       "  <tbody>\n",
       "    <tr>\n",
       "      <th>0</th>\n",
       "      <td>19</td>\n",
       "      <td>CCC(C)C1(C(=O)NC(=NC1=O)[O-])CC.[Na+]</td>\n",
       "    </tr>\n",
       "    <tr>\n",
       "      <th>1</th>\n",
       "      <td>35</td>\n",
       "      <td>C1C[C@H](N(C1)C(=O)[C@@H]2CSSC[C@@H](C(=O)N[C@...</td>\n",
       "    </tr>\n",
       "    <tr>\n",
       "      <th>2</th>\n",
       "      <td>36</td>\n",
       "      <td>C[C@H](/C=C/[C@H](C)C(C)C)[C@H]1CC[C@@H]\\2[C@@...</td>\n",
       "    </tr>\n",
       "    <tr>\n",
       "      <th>3</th>\n",
       "      <td>72</td>\n",
       "      <td>C1=CN=C(N=C1)NS(=O)(=O)C2=CC=C(C=C2)N</td>\n",
       "    </tr>\n",
       "    <tr>\n",
       "      <th>4</th>\n",
       "      <td>78</td>\n",
       "      <td>C[C@]12CC[C@H]3C(=CCC4=C3C=CC(=C4)OS(=O)(=O)[O...</td>\n",
       "    </tr>\n",
       "    <tr>\n",
       "      <th>...</th>\n",
       "      <td>...</td>\n",
       "      <td>...</td>\n",
       "    </tr>\n",
       "    <tr>\n",
       "      <th>384</th>\n",
       "      <td>995</td>\n",
       "      <td>C[C@H]1C[C@H]2[C@@H]3CC[C@@]([C@]3(C[C@@H]([C@...</td>\n",
       "    </tr>\n",
       "    <tr>\n",
       "      <th>385</th>\n",
       "      <td>996</td>\n",
       "      <td>C[C@H]1C[C@H]2[C@@H]3CC[C@@]([C@]3(C[C@@H]([C@...</td>\n",
       "    </tr>\n",
       "    <tr>\n",
       "      <th>386</th>\n",
       "      <td>997</td>\n",
       "      <td>C[C@H]1C[C@H]2[C@@H]3CC[C@@]([C@]3(C[C@@H]([C@...</td>\n",
       "    </tr>\n",
       "    <tr>\n",
       "      <th>387</th>\n",
       "      <td>998</td>\n",
       "      <td>C[C@H]1C[C@H]2[C@@H]3CC[C@@]([C@]3(C[C@@H]([C@...</td>\n",
       "    </tr>\n",
       "    <tr>\n",
       "      <th>388</th>\n",
       "      <td>999</td>\n",
       "      <td>C[C@H]1C[C@H]2[C@@H]3CC[C@@]([C@]3(C[C@@H]([C@...</td>\n",
       "    </tr>\n",
       "  </tbody>\n",
       "</table>\n",
       "<p>389 rows × 2 columns</p>\n",
       "</div>"
      ],
      "text/plain": [
       "     ProductID                                             smiles\n",
       "0           19              CCC(C)C1(C(=O)NC(=NC1=O)[O-])CC.[Na+]\n",
       "1           35  C1C[C@H](N(C1)C(=O)[C@@H]2CSSC[C@@H](C(=O)N[C@...\n",
       "2           36  C[C@H](/C=C/[C@H](C)C(C)C)[C@H]1CC[C@@H]\\2[C@@...\n",
       "3           72              C1=CN=C(N=C1)NS(=O)(=O)C2=CC=C(C=C2)N\n",
       "4           78  C[C@]12CC[C@H]3C(=CCC4=C3C=CC(=C4)OS(=O)(=O)[O...\n",
       "..         ...                                                ...\n",
       "384        995  C[C@H]1C[C@H]2[C@@H]3CC[C@@]([C@]3(C[C@@H]([C@...\n",
       "385        996  C[C@H]1C[C@H]2[C@@H]3CC[C@@]([C@]3(C[C@@H]([C@...\n",
       "386        997  C[C@H]1C[C@H]2[C@@H]3CC[C@@]([C@]3(C[C@@H]([C@...\n",
       "387        998  C[C@H]1C[C@H]2[C@@H]3CC[C@@]([C@]3(C[C@@H]([C@...\n",
       "388        999  C[C@H]1C[C@H]2[C@@H]3CC[C@@]([C@]3(C[C@@H]([C@...\n",
       "\n",
       "[389 rows x 2 columns]"
      ]
     },
     "execution_count": 21,
     "metadata": {},
     "output_type": "execute_result"
    }
   ],
   "source": [
    "processor.df_smile"
   ]
  },
  {
   "cell_type": "code",
   "execution_count": null,
   "id": "94e52a37",
   "metadata": {},
   "outputs": [],
   "source": []
  }
 ],
 "metadata": {
  "kernelspec": {
   "display_name": "MLcode",
   "language": "python",
   "name": "python3"
  },
  "language_info": {
   "codemirror_mode": {
    "name": "ipython",
    "version": 3
   },
   "file_extension": ".py",
   "mimetype": "text/x-python",
   "name": "python",
   "nbconvert_exporter": "python",
   "pygments_lexer": "ipython3",
   "version": "3.12.2"
  }
 },
 "nbformat": 4,
 "nbformat_minor": 5
}
